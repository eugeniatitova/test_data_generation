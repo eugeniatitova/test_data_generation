{
 "cells": [
  {
   "cell_type": "code",
   "execution_count": 1,
   "metadata": {
    "_kg_hide-input": true,
    "execution": {
     "iopub.execute_input": "2021-04-16T09:17:20.306634Z",
     "iopub.status.busy": "2021-04-16T09:17:20.306063Z",
     "iopub.status.idle": "2021-04-16T09:17:21.268993Z",
     "shell.execute_reply": "2021-04-16T09:17:21.268303Z"
    },
    "papermill": {
     "duration": 0.995852,
     "end_time": "2021-04-16T09:17:21.269160",
     "exception": false,
     "start_time": "2021-04-16T09:17:20.273308",
     "status": "completed"
    },
    "tags": []
   },
   "outputs": [],
   "source": [
    "import pandas as pd\n",
    "import numpy as np\n",
    "\n",
    "import warnings\n",
    "warnings.filterwarnings(\"ignore\")"
   ]
  },
  {
   "cell_type": "code",
   "execution_count": 2,
   "metadata": {
    "_kg_hide-input": true,
    "execution": {
     "iopub.execute_input": "2021-04-16T09:17:21.391720Z",
     "iopub.status.busy": "2021-04-16T09:17:21.391105Z",
     "iopub.status.idle": "2021-04-16T09:17:21.413372Z",
     "shell.execute_reply": "2021-04-16T09:17:21.412762Z"
    },
    "papermill": {
     "duration": 0.056488,
     "end_time": "2021-04-16T09:17:21.413552",
     "exception": false,
     "start_time": "2021-04-16T09:17:21.357064",
     "status": "completed"
    },
    "tags": []
   },
   "outputs": [],
   "source": [
    "original_df = pd.read_csv(\"heart.csv\")"
   ]
  },
  {
   "cell_type": "code",
   "execution_count": 3,
   "metadata": {
    "_kg_hide-input": true,
    "execution": {
     "iopub.execute_input": "2021-04-16T09:17:21.601895Z",
     "iopub.status.busy": "2021-04-16T09:17:21.600973Z",
     "iopub.status.idle": "2021-04-16T09:17:21.607119Z",
     "shell.execute_reply": "2021-04-16T09:17:21.607922Z"
    },
    "papermill": {
     "duration": 0.048951,
     "end_time": "2021-04-16T09:17:21.608167",
     "exception": false,
     "start_time": "2021-04-16T09:17:21.559216",
     "status": "completed"
    },
    "tags": []
   },
   "outputs": [
    {
     "name": "stdout",
     "output_type": "stream",
     "text": [
      "The shape of the dataset is :  (303, 14)\n"
     ]
    }
   ],
   "source": [
    "print(\"The shape of the dataset is : \", original_df.shape)"
   ]
  },
  {
   "cell_type": "code",
   "execution_count": 4,
   "metadata": {
    "_kg_hide-input": true,
    "execution": {
     "iopub.execute_input": "2021-04-16T09:17:21.737542Z",
     "iopub.status.busy": "2021-04-16T09:17:21.736643Z",
     "iopub.status.idle": "2021-04-16T09:17:21.767062Z",
     "shell.execute_reply": "2021-04-16T09:17:21.767552Z"
    },
    "papermill": {
     "duration": 0.063256,
     "end_time": "2021-04-16T09:17:21.767719",
     "exception": false,
     "start_time": "2021-04-16T09:17:21.704463",
     "status": "completed"
    },
    "tags": []
   },
   "outputs": [
    {
     "data": {
      "text/html": [
       "<div>\n",
       "<style scoped>\n",
       "    .dataframe tbody tr th:only-of-type {\n",
       "        vertical-align: middle;\n",
       "    }\n",
       "\n",
       "    .dataframe tbody tr th {\n",
       "        vertical-align: top;\n",
       "    }\n",
       "\n",
       "    .dataframe thead th {\n",
       "        text-align: right;\n",
       "    }\n",
       "</style>\n",
       "<table border=\"1\" class=\"dataframe\">\n",
       "  <thead>\n",
       "    <tr style=\"text-align: right;\">\n",
       "      <th></th>\n",
       "      <th>age</th>\n",
       "      <th>sex</th>\n",
       "      <th>cp</th>\n",
       "      <th>trtbps</th>\n",
       "      <th>chol</th>\n",
       "      <th>fbs</th>\n",
       "      <th>restecg</th>\n",
       "      <th>thalachh</th>\n",
       "      <th>exng</th>\n",
       "      <th>oldpeak</th>\n",
       "      <th>slp</th>\n",
       "      <th>caa</th>\n",
       "      <th>thall</th>\n",
       "      <th>output</th>\n",
       "    </tr>\n",
       "  </thead>\n",
       "  <tbody>\n",
       "    <tr>\n",
       "      <th>0</th>\n",
       "      <td>63</td>\n",
       "      <td>1</td>\n",
       "      <td>3</td>\n",
       "      <td>145</td>\n",
       "      <td>233</td>\n",
       "      <td>1</td>\n",
       "      <td>0</td>\n",
       "      <td>150</td>\n",
       "      <td>0</td>\n",
       "      <td>2.3</td>\n",
       "      <td>0</td>\n",
       "      <td>0</td>\n",
       "      <td>1</td>\n",
       "      <td>1</td>\n",
       "    </tr>\n",
       "    <tr>\n",
       "      <th>1</th>\n",
       "      <td>37</td>\n",
       "      <td>1</td>\n",
       "      <td>2</td>\n",
       "      <td>130</td>\n",
       "      <td>250</td>\n",
       "      <td>0</td>\n",
       "      <td>1</td>\n",
       "      <td>187</td>\n",
       "      <td>0</td>\n",
       "      <td>3.5</td>\n",
       "      <td>0</td>\n",
       "      <td>0</td>\n",
       "      <td>2</td>\n",
       "      <td>1</td>\n",
       "    </tr>\n",
       "    <tr>\n",
       "      <th>2</th>\n",
       "      <td>41</td>\n",
       "      <td>0</td>\n",
       "      <td>1</td>\n",
       "      <td>130</td>\n",
       "      <td>204</td>\n",
       "      <td>0</td>\n",
       "      <td>0</td>\n",
       "      <td>172</td>\n",
       "      <td>0</td>\n",
       "      <td>1.4</td>\n",
       "      <td>2</td>\n",
       "      <td>0</td>\n",
       "      <td>2</td>\n",
       "      <td>1</td>\n",
       "    </tr>\n",
       "    <tr>\n",
       "      <th>3</th>\n",
       "      <td>56</td>\n",
       "      <td>1</td>\n",
       "      <td>1</td>\n",
       "      <td>120</td>\n",
       "      <td>236</td>\n",
       "      <td>0</td>\n",
       "      <td>1</td>\n",
       "      <td>178</td>\n",
       "      <td>0</td>\n",
       "      <td>0.8</td>\n",
       "      <td>2</td>\n",
       "      <td>0</td>\n",
       "      <td>2</td>\n",
       "      <td>1</td>\n",
       "    </tr>\n",
       "    <tr>\n",
       "      <th>4</th>\n",
       "      <td>57</td>\n",
       "      <td>0</td>\n",
       "      <td>0</td>\n",
       "      <td>120</td>\n",
       "      <td>354</td>\n",
       "      <td>0</td>\n",
       "      <td>1</td>\n",
       "      <td>163</td>\n",
       "      <td>1</td>\n",
       "      <td>0.6</td>\n",
       "      <td>2</td>\n",
       "      <td>0</td>\n",
       "      <td>2</td>\n",
       "      <td>1</td>\n",
       "    </tr>\n",
       "  </tbody>\n",
       "</table>\n",
       "</div>"
      ],
      "text/plain": [
       "   age  sex  cp  trtbps  chol  fbs  restecg  thalachh  exng  oldpeak  slp  \\\n",
       "0   63    1   3     145   233    1        0       150     0      2.3    0   \n",
       "1   37    1   2     130   250    0        1       187     0      3.5    0   \n",
       "2   41    0   1     130   204    0        0       172     0      1.4    2   \n",
       "3   56    1   1     120   236    0        1       178     0      0.8    2   \n",
       "4   57    0   0     120   354    0        1       163     1      0.6    2   \n",
       "\n",
       "   caa  thall  output  \n",
       "0    0      1       1  \n",
       "1    0      2       1  \n",
       "2    0      2       1  \n",
       "3    0      2       1  \n",
       "4    0      2       1  "
      ]
     },
     "execution_count": 4,
     "metadata": {},
     "output_type": "execute_result"
    }
   ],
   "source": [
    "original_df.head()"
   ]
  },
  {
   "cell_type": "code",
   "execution_count": 5,
   "metadata": {},
   "outputs": [],
   "source": [
    "generated_df = pd.read_csv(\"generated.csv\", header=None)"
   ]
  },
  {
   "cell_type": "code",
   "execution_count": 6,
   "metadata": {},
   "outputs": [
    {
     "name": "stdout",
     "output_type": "stream",
     "text": [
      "The shape of the dataset is :  (303, 14)\n"
     ]
    }
   ],
   "source": [
    "print(\"The shape of the dataset is : \", generated_df.shape)"
   ]
  },
  {
   "cell_type": "code",
   "execution_count": 7,
   "metadata": {},
   "outputs": [],
   "source": [
    "generated_df.columns = original_df.columns"
   ]
  },
  {
   "cell_type": "code",
   "execution_count": 8,
   "metadata": {},
   "outputs": [
    {
     "data": {
      "text/html": [
       "<div>\n",
       "<style scoped>\n",
       "    .dataframe tbody tr th:only-of-type {\n",
       "        vertical-align: middle;\n",
       "    }\n",
       "\n",
       "    .dataframe tbody tr th {\n",
       "        vertical-align: top;\n",
       "    }\n",
       "\n",
       "    .dataframe thead th {\n",
       "        text-align: right;\n",
       "    }\n",
       "</style>\n",
       "<table border=\"1\" class=\"dataframe\">\n",
       "  <thead>\n",
       "    <tr style=\"text-align: right;\">\n",
       "      <th></th>\n",
       "      <th>age</th>\n",
       "      <th>sex</th>\n",
       "      <th>cp</th>\n",
       "      <th>trtbps</th>\n",
       "      <th>chol</th>\n",
       "      <th>fbs</th>\n",
       "      <th>restecg</th>\n",
       "      <th>thalachh</th>\n",
       "      <th>exng</th>\n",
       "      <th>oldpeak</th>\n",
       "      <th>slp</th>\n",
       "      <th>caa</th>\n",
       "      <th>thall</th>\n",
       "      <th>output</th>\n",
       "    </tr>\n",
       "  </thead>\n",
       "  <tbody>\n",
       "    <tr>\n",
       "      <th>0</th>\n",
       "      <td>58.587723</td>\n",
       "      <td>0.0</td>\n",
       "      <td>2.0</td>\n",
       "      <td>126.208786</td>\n",
       "      <td>306.10492</td>\n",
       "      <td>0.0</td>\n",
       "      <td>1.0</td>\n",
       "      <td>165.07751</td>\n",
       "      <td>0.0</td>\n",
       "      <td>0.059414</td>\n",
       "      <td>2.0</td>\n",
       "      <td>1.0</td>\n",
       "      <td>2.0</td>\n",
       "      <td>1.0</td>\n",
       "    </tr>\n",
       "    <tr>\n",
       "      <th>1</th>\n",
       "      <td>59.176660</td>\n",
       "      <td>1.0</td>\n",
       "      <td>2.0</td>\n",
       "      <td>134.346220</td>\n",
       "      <td>245.68758</td>\n",
       "      <td>0.0</td>\n",
       "      <td>0.0</td>\n",
       "      <td>155.57610</td>\n",
       "      <td>0.0</td>\n",
       "      <td>0.824780</td>\n",
       "      <td>1.0</td>\n",
       "      <td>0.0</td>\n",
       "      <td>3.0</td>\n",
       "      <td>1.0</td>\n",
       "    </tr>\n",
       "    <tr>\n",
       "      <th>2</th>\n",
       "      <td>52.082695</td>\n",
       "      <td>0.0</td>\n",
       "      <td>2.0</td>\n",
       "      <td>127.719210</td>\n",
       "      <td>277.77197</td>\n",
       "      <td>0.0</td>\n",
       "      <td>0.0</td>\n",
       "      <td>155.61465</td>\n",
       "      <td>0.0</td>\n",
       "      <td>0.160931</td>\n",
       "      <td>2.0</td>\n",
       "      <td>1.0</td>\n",
       "      <td>2.0</td>\n",
       "      <td>1.0</td>\n",
       "    </tr>\n",
       "    <tr>\n",
       "      <th>3</th>\n",
       "      <td>49.808850</td>\n",
       "      <td>1.0</td>\n",
       "      <td>0.0</td>\n",
       "      <td>125.714230</td>\n",
       "      <td>218.88461</td>\n",
       "      <td>0.0</td>\n",
       "      <td>1.0</td>\n",
       "      <td>147.57452</td>\n",
       "      <td>1.0</td>\n",
       "      <td>0.223681</td>\n",
       "      <td>2.0</td>\n",
       "      <td>0.0</td>\n",
       "      <td>3.0</td>\n",
       "      <td>1.0</td>\n",
       "    </tr>\n",
       "    <tr>\n",
       "      <th>4</th>\n",
       "      <td>47.450340</td>\n",
       "      <td>0.0</td>\n",
       "      <td>2.0</td>\n",
       "      <td>121.424090</td>\n",
       "      <td>217.67462</td>\n",
       "      <td>0.0</td>\n",
       "      <td>1.0</td>\n",
       "      <td>159.43839</td>\n",
       "      <td>0.0</td>\n",
       "      <td>0.773253</td>\n",
       "      <td>1.0</td>\n",
       "      <td>0.0</td>\n",
       "      <td>2.0</td>\n",
       "      <td>1.0</td>\n",
       "    </tr>\n",
       "  </tbody>\n",
       "</table>\n",
       "</div>"
      ],
      "text/plain": [
       "         age  sex   cp      trtbps       chol  fbs  restecg   thalachh  exng  \\\n",
       "0  58.587723  0.0  2.0  126.208786  306.10492  0.0      1.0  165.07751   0.0   \n",
       "1  59.176660  1.0  2.0  134.346220  245.68758  0.0      0.0  155.57610   0.0   \n",
       "2  52.082695  0.0  2.0  127.719210  277.77197  0.0      0.0  155.61465   0.0   \n",
       "3  49.808850  1.0  0.0  125.714230  218.88461  0.0      1.0  147.57452   1.0   \n",
       "4  47.450340  0.0  2.0  121.424090  217.67462  0.0      1.0  159.43839   0.0   \n",
       "\n",
       "    oldpeak  slp  caa  thall  output  \n",
       "0  0.059414  2.0  1.0    2.0     1.0  \n",
       "1  0.824780  1.0  0.0    3.0     1.0  \n",
       "2  0.160931  2.0  1.0    2.0     1.0  \n",
       "3  0.223681  2.0  0.0    3.0     1.0  \n",
       "4  0.773253  1.0  0.0    2.0     1.0  "
      ]
     },
     "execution_count": 8,
     "metadata": {},
     "output_type": "execute_result"
    }
   ],
   "source": [
    "generated_df.head()"
   ]
  },
  {
   "cell_type": "markdown",
   "metadata": {},
   "source": [
    "##### Количество уникальных значений"
   ]
  },
  {
   "cell_type": "code",
   "execution_count": 9,
   "metadata": {
    "_kg_hide-input": true,
    "execution": {
     "iopub.execute_input": "2021-04-16T09:17:21.928175Z",
     "iopub.status.busy": "2021-04-16T09:17:21.927222Z",
     "iopub.status.idle": "2021-04-16T09:17:21.946621Z",
     "shell.execute_reply": "2021-04-16T09:17:21.947114Z"
    },
    "papermill": {
     "duration": 0.070565,
     "end_time": "2021-04-16T09:17:21.947277",
     "exception": false,
     "start_time": "2021-04-16T09:17:21.876712",
     "status": "completed"
    },
    "tags": []
   },
   "outputs": [
    {
     "data": {
      "text/html": [
       "<div>\n",
       "<style scoped>\n",
       "    .dataframe tbody tr th:only-of-type {\n",
       "        vertical-align: middle;\n",
       "    }\n",
       "\n",
       "    .dataframe tbody tr th {\n",
       "        vertical-align: top;\n",
       "    }\n",
       "\n",
       "    .dataframe thead th {\n",
       "        text-align: right;\n",
       "    }\n",
       "</style>\n",
       "<table border=\"1\" class=\"dataframe\">\n",
       "  <thead>\n",
       "    <tr style=\"text-align: right;\">\n",
       "      <th></th>\n",
       "      <th>unique count</th>\n",
       "    </tr>\n",
       "  </thead>\n",
       "  <tbody>\n",
       "    <tr>\n",
       "      <th>age</th>\n",
       "      <td>41</td>\n",
       "    </tr>\n",
       "    <tr>\n",
       "      <th>sex</th>\n",
       "      <td>2</td>\n",
       "    </tr>\n",
       "    <tr>\n",
       "      <th>cp</th>\n",
       "      <td>4</td>\n",
       "    </tr>\n",
       "    <tr>\n",
       "      <th>trtbps</th>\n",
       "      <td>49</td>\n",
       "    </tr>\n",
       "    <tr>\n",
       "      <th>chol</th>\n",
       "      <td>152</td>\n",
       "    </tr>\n",
       "    <tr>\n",
       "      <th>fbs</th>\n",
       "      <td>2</td>\n",
       "    </tr>\n",
       "    <tr>\n",
       "      <th>restecg</th>\n",
       "      <td>3</td>\n",
       "    </tr>\n",
       "    <tr>\n",
       "      <th>thalachh</th>\n",
       "      <td>91</td>\n",
       "    </tr>\n",
       "    <tr>\n",
       "      <th>exng</th>\n",
       "      <td>2</td>\n",
       "    </tr>\n",
       "    <tr>\n",
       "      <th>oldpeak</th>\n",
       "      <td>40</td>\n",
       "    </tr>\n",
       "    <tr>\n",
       "      <th>slp</th>\n",
       "      <td>3</td>\n",
       "    </tr>\n",
       "    <tr>\n",
       "      <th>caa</th>\n",
       "      <td>5</td>\n",
       "    </tr>\n",
       "    <tr>\n",
       "      <th>thall</th>\n",
       "      <td>4</td>\n",
       "    </tr>\n",
       "    <tr>\n",
       "      <th>output</th>\n",
       "      <td>2</td>\n",
       "    </tr>\n",
       "  </tbody>\n",
       "</table>\n",
       "</div>"
      ],
      "text/plain": [
       "          unique count\n",
       "age                 41\n",
       "sex                  2\n",
       "cp                   4\n",
       "trtbps              49\n",
       "chol               152\n",
       "fbs                  2\n",
       "restecg              3\n",
       "thalachh            91\n",
       "exng                 2\n",
       "oldpeak             40\n",
       "slp                  3\n",
       "caa                  5\n",
       "thall                4\n",
       "output               2"
      ]
     },
     "execution_count": 9,
     "metadata": {},
     "output_type": "execute_result"
    }
   ],
   "source": [
    "dict = {}\n",
    "for i in list(original_df.columns):\n",
    "    dict[i] = original_df[i].value_counts().shape[0]\n",
    "\n",
    "pd.DataFrame(dict, index=[\"unique count\"]).transpose()"
   ]
  },
  {
   "cell_type": "code",
   "execution_count": 10,
   "metadata": {},
   "outputs": [
    {
     "data": {
      "text/html": [
       "<div>\n",
       "<style scoped>\n",
       "    .dataframe tbody tr th:only-of-type {\n",
       "        vertical-align: middle;\n",
       "    }\n",
       "\n",
       "    .dataframe tbody tr th {\n",
       "        vertical-align: top;\n",
       "    }\n",
       "\n",
       "    .dataframe thead th {\n",
       "        text-align: right;\n",
       "    }\n",
       "</style>\n",
       "<table border=\"1\" class=\"dataframe\">\n",
       "  <thead>\n",
       "    <tr style=\"text-align: right;\">\n",
       "      <th></th>\n",
       "      <th>unique count</th>\n",
       "    </tr>\n",
       "  </thead>\n",
       "  <tbody>\n",
       "    <tr>\n",
       "      <th>age</th>\n",
       "      <td>303</td>\n",
       "    </tr>\n",
       "    <tr>\n",
       "      <th>sex</th>\n",
       "      <td>2</td>\n",
       "    </tr>\n",
       "    <tr>\n",
       "      <th>cp</th>\n",
       "      <td>4</td>\n",
       "    </tr>\n",
       "    <tr>\n",
       "      <th>trtbps</th>\n",
       "      <td>303</td>\n",
       "    </tr>\n",
       "    <tr>\n",
       "      <th>chol</th>\n",
       "      <td>303</td>\n",
       "    </tr>\n",
       "    <tr>\n",
       "      <th>fbs</th>\n",
       "      <td>2</td>\n",
       "    </tr>\n",
       "    <tr>\n",
       "      <th>restecg</th>\n",
       "      <td>2</td>\n",
       "    </tr>\n",
       "    <tr>\n",
       "      <th>thalachh</th>\n",
       "      <td>303</td>\n",
       "    </tr>\n",
       "    <tr>\n",
       "      <th>exng</th>\n",
       "      <td>2</td>\n",
       "    </tr>\n",
       "    <tr>\n",
       "      <th>oldpeak</th>\n",
       "      <td>303</td>\n",
       "    </tr>\n",
       "    <tr>\n",
       "      <th>slp</th>\n",
       "      <td>3</td>\n",
       "    </tr>\n",
       "    <tr>\n",
       "      <th>caa</th>\n",
       "      <td>4</td>\n",
       "    </tr>\n",
       "    <tr>\n",
       "      <th>thall</th>\n",
       "      <td>3</td>\n",
       "    </tr>\n",
       "    <tr>\n",
       "      <th>output</th>\n",
       "      <td>2</td>\n",
       "    </tr>\n",
       "  </tbody>\n",
       "</table>\n",
       "</div>"
      ],
      "text/plain": [
       "          unique count\n",
       "age                303\n",
       "sex                  2\n",
       "cp                   4\n",
       "trtbps             303\n",
       "chol               303\n",
       "fbs                  2\n",
       "restecg              2\n",
       "thalachh           303\n",
       "exng                 2\n",
       "oldpeak            303\n",
       "slp                  3\n",
       "caa                  4\n",
       "thall                3\n",
       "output               2"
      ]
     },
     "execution_count": 10,
     "metadata": {},
     "output_type": "execute_result"
    }
   ],
   "source": [
    "dict = {}\n",
    "for i in list(generated_df.columns):\n",
    "    dict[i] = generated_df[i].value_counts().shape[0]\n",
    "\n",
    "pd.DataFrame(dict, index=[\"unique count\"]).transpose()"
   ]
  },
  {
   "cell_type": "markdown",
   "metadata": {
    "papermill": {
     "duration": 0.030645,
     "end_time": "2021-04-16T09:17:22.008360",
     "exception": false,
     "start_time": "2021-04-16T09:17:21.977715",
     "status": "completed"
    },
    "tags": []
   },
   "source": [
    "##### Разделение на непрерывные и дискретные столбцы"
   ]
  },
  {
   "cell_type": "code",
   "execution_count": 11,
   "metadata": {
    "_kg_hide-input": true,
    "execution": {
     "iopub.execute_input": "2021-04-16T09:17:22.073365Z",
     "iopub.status.busy": "2021-04-16T09:17:22.072490Z",
     "iopub.status.idle": "2021-04-16T09:17:22.080891Z",
     "shell.execute_reply": "2021-04-16T09:17:22.080218Z"
    },
    "papermill": {
     "duration": 0.042238,
     "end_time": "2021-04-16T09:17:22.081072",
     "exception": false,
     "start_time": "2021-04-16T09:17:22.038834",
     "status": "completed"
    },
    "tags": []
   },
   "outputs": [
    {
     "name": "stdout",
     "output_type": "stream",
     "text": [
      "The categorial cols are :  ['sex', 'exng', 'caa', 'cp', 'fbs', 'restecg', 'slp', 'thall']\n",
      "The continuous cols are :  ['age', 'trtbps', 'chol', 'thalachh', 'oldpeak']\n",
      "The target variable is :   ['output']\n"
     ]
    }
   ],
   "source": [
    "cat_cols = ['sex','exng','caa','cp','fbs','restecg','slp','thall']\n",
    "con_cols = [\"age\",\"trtbps\",\"chol\",\"thalachh\",\"oldpeak\"]\n",
    "target_col = [\"output\"]\n",
    "print(\"The categorial cols are : \", cat_cols)\n",
    "print(\"The continuous cols are : \", con_cols)\n",
    "print(\"The target variable is :  \", target_col)"
   ]
  },
  {
   "cell_type": "markdown",
   "metadata": {
    "papermill": {
     "duration": 0.031148,
     "end_time": "2021-04-16T09:17:22.144726",
     "exception": false,
     "start_time": "2021-04-16T09:17:22.113578",
     "status": "completed"
    },
    "tags": []
   },
   "source": [
    "##### Общая статистика"
   ]
  },
  {
   "cell_type": "code",
   "execution_count": 12,
   "metadata": {
    "_kg_hide-input": true,
    "execution": {
     "iopub.execute_input": "2021-04-16T09:17:22.215449Z",
     "iopub.status.busy": "2021-04-16T09:17:22.214806Z",
     "iopub.status.idle": "2021-04-16T09:17:22.239372Z",
     "shell.execute_reply": "2021-04-16T09:17:22.238896Z"
    },
    "papermill": {
     "duration": 0.06406,
     "end_time": "2021-04-16T09:17:22.239536",
     "exception": false,
     "start_time": "2021-04-16T09:17:22.175476",
     "status": "completed"
    },
    "tags": []
   },
   "outputs": [
    {
     "data": {
      "text/html": [
       "<div>\n",
       "<style scoped>\n",
       "    .dataframe tbody tr th:only-of-type {\n",
       "        vertical-align: middle;\n",
       "    }\n",
       "\n",
       "    .dataframe tbody tr th {\n",
       "        vertical-align: top;\n",
       "    }\n",
       "\n",
       "    .dataframe thead th {\n",
       "        text-align: right;\n",
       "    }\n",
       "</style>\n",
       "<table border=\"1\" class=\"dataframe\">\n",
       "  <thead>\n",
       "    <tr style=\"text-align: right;\">\n",
       "      <th></th>\n",
       "      <th>count</th>\n",
       "      <th>mean</th>\n",
       "      <th>std</th>\n",
       "      <th>min</th>\n",
       "      <th>25%</th>\n",
       "      <th>50%</th>\n",
       "      <th>75%</th>\n",
       "      <th>max</th>\n",
       "    </tr>\n",
       "  </thead>\n",
       "  <tbody>\n",
       "    <tr>\n",
       "      <th>age</th>\n",
       "      <td>303.0</td>\n",
       "      <td>54.366337</td>\n",
       "      <td>9.082101</td>\n",
       "      <td>29.0</td>\n",
       "      <td>47.5</td>\n",
       "      <td>55.0</td>\n",
       "      <td>61.0</td>\n",
       "      <td>77.0</td>\n",
       "    </tr>\n",
       "    <tr>\n",
       "      <th>trtbps</th>\n",
       "      <td>303.0</td>\n",
       "      <td>131.623762</td>\n",
       "      <td>17.538143</td>\n",
       "      <td>94.0</td>\n",
       "      <td>120.0</td>\n",
       "      <td>130.0</td>\n",
       "      <td>140.0</td>\n",
       "      <td>200.0</td>\n",
       "    </tr>\n",
       "    <tr>\n",
       "      <th>chol</th>\n",
       "      <td>303.0</td>\n",
       "      <td>246.264026</td>\n",
       "      <td>51.830751</td>\n",
       "      <td>126.0</td>\n",
       "      <td>211.0</td>\n",
       "      <td>240.0</td>\n",
       "      <td>274.5</td>\n",
       "      <td>564.0</td>\n",
       "    </tr>\n",
       "    <tr>\n",
       "      <th>thalachh</th>\n",
       "      <td>303.0</td>\n",
       "      <td>149.646865</td>\n",
       "      <td>22.905161</td>\n",
       "      <td>71.0</td>\n",
       "      <td>133.5</td>\n",
       "      <td>153.0</td>\n",
       "      <td>166.0</td>\n",
       "      <td>202.0</td>\n",
       "    </tr>\n",
       "    <tr>\n",
       "      <th>oldpeak</th>\n",
       "      <td>303.0</td>\n",
       "      <td>1.039604</td>\n",
       "      <td>1.161075</td>\n",
       "      <td>0.0</td>\n",
       "      <td>0.0</td>\n",
       "      <td>0.8</td>\n",
       "      <td>1.6</td>\n",
       "      <td>6.2</td>\n",
       "    </tr>\n",
       "  </tbody>\n",
       "</table>\n",
       "</div>"
      ],
      "text/plain": [
       "          count        mean        std    min    25%    50%    75%    max\n",
       "age       303.0   54.366337   9.082101   29.0   47.5   55.0   61.0   77.0\n",
       "trtbps    303.0  131.623762  17.538143   94.0  120.0  130.0  140.0  200.0\n",
       "chol      303.0  246.264026  51.830751  126.0  211.0  240.0  274.5  564.0\n",
       "thalachh  303.0  149.646865  22.905161   71.0  133.5  153.0  166.0  202.0\n",
       "oldpeak   303.0    1.039604   1.161075    0.0    0.0    0.8    1.6    6.2"
      ]
     },
     "execution_count": 12,
     "metadata": {},
     "output_type": "execute_result"
    }
   ],
   "source": [
    "original_df[con_cols].describe().transpose()"
   ]
  },
  {
   "cell_type": "code",
   "execution_count": 13,
   "metadata": {},
   "outputs": [
    {
     "data": {
      "text/html": [
       "<div>\n",
       "<style scoped>\n",
       "    .dataframe tbody tr th:only-of-type {\n",
       "        vertical-align: middle;\n",
       "    }\n",
       "\n",
       "    .dataframe tbody tr th {\n",
       "        vertical-align: top;\n",
       "    }\n",
       "\n",
       "    .dataframe thead th {\n",
       "        text-align: right;\n",
       "    }\n",
       "</style>\n",
       "<table border=\"1\" class=\"dataframe\">\n",
       "  <thead>\n",
       "    <tr style=\"text-align: right;\">\n",
       "      <th></th>\n",
       "      <th>count</th>\n",
       "      <th>mean</th>\n",
       "      <th>std</th>\n",
       "      <th>min</th>\n",
       "      <th>25%</th>\n",
       "      <th>50%</th>\n",
       "      <th>75%</th>\n",
       "      <th>max</th>\n",
       "    </tr>\n",
       "  </thead>\n",
       "  <tbody>\n",
       "    <tr>\n",
       "      <th>age</th>\n",
       "      <td>303.0</td>\n",
       "      <td>54.899178</td>\n",
       "      <td>7.513066</td>\n",
       "      <td>35.559757</td>\n",
       "      <td>49.872359</td>\n",
       "      <td>55.539700</td>\n",
       "      <td>60.458090</td>\n",
       "      <td>72.521910</td>\n",
       "    </tr>\n",
       "    <tr>\n",
       "      <th>trtbps</th>\n",
       "      <td>303.0</td>\n",
       "      <td>131.910740</td>\n",
       "      <td>7.803876</td>\n",
       "      <td>109.531720</td>\n",
       "      <td>126.461265</td>\n",
       "      <td>132.444400</td>\n",
       "      <td>137.080705</td>\n",
       "      <td>163.263400</td>\n",
       "    </tr>\n",
       "    <tr>\n",
       "      <th>chol</th>\n",
       "      <td>303.0</td>\n",
       "      <td>249.983379</td>\n",
       "      <td>30.928561</td>\n",
       "      <td>188.491000</td>\n",
       "      <td>228.209350</td>\n",
       "      <td>244.448650</td>\n",
       "      <td>265.435835</td>\n",
       "      <td>366.394130</td>\n",
       "    </tr>\n",
       "    <tr>\n",
       "      <th>thalachh</th>\n",
       "      <td>303.0</td>\n",
       "      <td>155.102857</td>\n",
       "      <td>12.816038</td>\n",
       "      <td>118.177315</td>\n",
       "      <td>147.508925</td>\n",
       "      <td>156.284820</td>\n",
       "      <td>163.658235</td>\n",
       "      <td>187.336460</td>\n",
       "    </tr>\n",
       "    <tr>\n",
       "      <th>oldpeak</th>\n",
       "      <td>303.0</td>\n",
       "      <td>0.747483</td>\n",
       "      <td>0.630911</td>\n",
       "      <td>0.005131</td>\n",
       "      <td>0.247585</td>\n",
       "      <td>0.584833</td>\n",
       "      <td>1.127620</td>\n",
       "      <td>4.186105</td>\n",
       "    </tr>\n",
       "  </tbody>\n",
       "</table>\n",
       "</div>"
      ],
      "text/plain": [
       "          count        mean        std         min         25%         50%  \\\n",
       "age       303.0   54.899178   7.513066   35.559757   49.872359   55.539700   \n",
       "trtbps    303.0  131.910740   7.803876  109.531720  126.461265  132.444400   \n",
       "chol      303.0  249.983379  30.928561  188.491000  228.209350  244.448650   \n",
       "thalachh  303.0  155.102857  12.816038  118.177315  147.508925  156.284820   \n",
       "oldpeak   303.0    0.747483   0.630911    0.005131    0.247585    0.584833   \n",
       "\n",
       "                 75%         max  \n",
       "age        60.458090   72.521910  \n",
       "trtbps    137.080705  163.263400  \n",
       "chol      265.435835  366.394130  \n",
       "thalachh  163.658235  187.336460  \n",
       "oldpeak     1.127620    4.186105  "
      ]
     },
     "execution_count": 13,
     "metadata": {},
     "output_type": "execute_result"
    }
   ],
   "source": [
    "generated_df[con_cols].describe().transpose()"
   ]
  },
  {
   "cell_type": "markdown",
   "metadata": {},
   "source": [
    "##### Импорт библиотек"
   ]
  },
  {
   "cell_type": "code",
   "execution_count": 14,
   "metadata": {
    "_kg_hide-input": true,
    "execution": {
     "iopub.execute_input": "2021-04-16T09:18:11.973597Z",
     "iopub.status.busy": "2021-04-16T09:18:11.972918Z",
     "iopub.status.idle": "2021-04-16T09:18:13.935427Z",
     "shell.execute_reply": "2021-04-16T09:18:13.935889Z"
    },
    "papermill": {
     "duration": 2.041756,
     "end_time": "2021-04-16T09:18:13.936054",
     "exception": false,
     "start_time": "2021-04-16T09:18:11.894298",
     "status": "completed"
    },
    "tags": []
   },
   "outputs": [],
   "source": [
    "# Scaling\n",
    "from sklearn.preprocessing import RobustScaler\n",
    "\n",
    "# Train Test Split\n",
    "from sklearn.model_selection import train_test_split\n",
    "\n",
    "# Models\n",
    "import torch\n",
    "import torch.nn as nn\n",
    "from sklearn.svm import SVC\n",
    "from sklearn.linear_model import LogisticRegression\n",
    "from sklearn.ensemble import RandomForestClassifier\n",
    "from sklearn.tree import DecisionTreeClassifier\n",
    "from sklearn.ensemble import GradientBoostingClassifier\n",
    "from sklearn.dummy import DummyClassifier\n",
    "\n",
    "# Metrics\n",
    "from sklearn.metrics import f1_score"
   ]
  },
  {
   "cell_type": "markdown",
   "metadata": {},
   "source": [
    "##### Предобработка"
   ]
  },
  {
   "cell_type": "code",
   "execution_count": 15,
   "metadata": {
    "_kg_hide-input": true,
    "execution": {
     "iopub.execute_input": "2021-04-16T09:18:14.396622Z",
     "iopub.status.busy": "2021-04-16T09:18:14.395979Z",
     "iopub.status.idle": "2021-04-16T09:18:14.436999Z",
     "shell.execute_reply": "2021-04-16T09:18:14.437464Z"
    },
    "papermill": {
     "duration": 0.120799,
     "end_time": "2021-04-16T09:18:14.437630",
     "exception": false,
     "start_time": "2021-04-16T09:18:14.316831",
     "status": "completed"
    },
    "tags": []
   },
   "outputs": [
    {
     "name": "stdout",
     "output_type": "stream",
     "text": [
      "The first 5 rows of original_X are\n"
     ]
    },
    {
     "data": {
      "text/html": [
       "<div>\n",
       "<style scoped>\n",
       "    .dataframe tbody tr th:only-of-type {\n",
       "        vertical-align: middle;\n",
       "    }\n",
       "\n",
       "    .dataframe tbody tr th {\n",
       "        vertical-align: top;\n",
       "    }\n",
       "\n",
       "    .dataframe thead th {\n",
       "        text-align: right;\n",
       "    }\n",
       "</style>\n",
       "<table border=\"1\" class=\"dataframe\">\n",
       "  <thead>\n",
       "    <tr style=\"text-align: right;\">\n",
       "      <th></th>\n",
       "      <th>age</th>\n",
       "      <th>trtbps</th>\n",
       "      <th>chol</th>\n",
       "      <th>thalachh</th>\n",
       "      <th>oldpeak</th>\n",
       "      <th>sex_1</th>\n",
       "      <th>exng_1</th>\n",
       "      <th>caa_1</th>\n",
       "      <th>caa_2</th>\n",
       "      <th>caa_3</th>\n",
       "      <th>...</th>\n",
       "      <th>cp_2</th>\n",
       "      <th>cp_3</th>\n",
       "      <th>fbs_1</th>\n",
       "      <th>restecg_1</th>\n",
       "      <th>restecg_2</th>\n",
       "      <th>slp_1</th>\n",
       "      <th>slp_2</th>\n",
       "      <th>thall_1</th>\n",
       "      <th>thall_2</th>\n",
       "      <th>thall_3</th>\n",
       "    </tr>\n",
       "  </thead>\n",
       "  <tbody>\n",
       "    <tr>\n",
       "      <th>0</th>\n",
       "      <td>0.592593</td>\n",
       "      <td>0.75</td>\n",
       "      <td>-0.110236</td>\n",
       "      <td>-0.092308</td>\n",
       "      <td>0.9375</td>\n",
       "      <td>1</td>\n",
       "      <td>0</td>\n",
       "      <td>0</td>\n",
       "      <td>0</td>\n",
       "      <td>0</td>\n",
       "      <td>...</td>\n",
       "      <td>0</td>\n",
       "      <td>1</td>\n",
       "      <td>1</td>\n",
       "      <td>0</td>\n",
       "      <td>0</td>\n",
       "      <td>0</td>\n",
       "      <td>0</td>\n",
       "      <td>1</td>\n",
       "      <td>0</td>\n",
       "      <td>0</td>\n",
       "    </tr>\n",
       "    <tr>\n",
       "      <th>1</th>\n",
       "      <td>-1.333333</td>\n",
       "      <td>0.00</td>\n",
       "      <td>0.157480</td>\n",
       "      <td>1.046154</td>\n",
       "      <td>1.6875</td>\n",
       "      <td>1</td>\n",
       "      <td>0</td>\n",
       "      <td>0</td>\n",
       "      <td>0</td>\n",
       "      <td>0</td>\n",
       "      <td>...</td>\n",
       "      <td>1</td>\n",
       "      <td>0</td>\n",
       "      <td>0</td>\n",
       "      <td>1</td>\n",
       "      <td>0</td>\n",
       "      <td>0</td>\n",
       "      <td>0</td>\n",
       "      <td>0</td>\n",
       "      <td>1</td>\n",
       "      <td>0</td>\n",
       "    </tr>\n",
       "    <tr>\n",
       "      <th>2</th>\n",
       "      <td>-1.037037</td>\n",
       "      <td>0.00</td>\n",
       "      <td>-0.566929</td>\n",
       "      <td>0.584615</td>\n",
       "      <td>0.3750</td>\n",
       "      <td>0</td>\n",
       "      <td>0</td>\n",
       "      <td>0</td>\n",
       "      <td>0</td>\n",
       "      <td>0</td>\n",
       "      <td>...</td>\n",
       "      <td>0</td>\n",
       "      <td>0</td>\n",
       "      <td>0</td>\n",
       "      <td>0</td>\n",
       "      <td>0</td>\n",
       "      <td>0</td>\n",
       "      <td>1</td>\n",
       "      <td>0</td>\n",
       "      <td>1</td>\n",
       "      <td>0</td>\n",
       "    </tr>\n",
       "    <tr>\n",
       "      <th>3</th>\n",
       "      <td>0.074074</td>\n",
       "      <td>-0.50</td>\n",
       "      <td>-0.062992</td>\n",
       "      <td>0.769231</td>\n",
       "      <td>0.0000</td>\n",
       "      <td>1</td>\n",
       "      <td>0</td>\n",
       "      <td>0</td>\n",
       "      <td>0</td>\n",
       "      <td>0</td>\n",
       "      <td>...</td>\n",
       "      <td>0</td>\n",
       "      <td>0</td>\n",
       "      <td>0</td>\n",
       "      <td>1</td>\n",
       "      <td>0</td>\n",
       "      <td>0</td>\n",
       "      <td>1</td>\n",
       "      <td>0</td>\n",
       "      <td>1</td>\n",
       "      <td>0</td>\n",
       "    </tr>\n",
       "    <tr>\n",
       "      <th>4</th>\n",
       "      <td>0.148148</td>\n",
       "      <td>-0.50</td>\n",
       "      <td>1.795276</td>\n",
       "      <td>0.307692</td>\n",
       "      <td>-0.1250</td>\n",
       "      <td>0</td>\n",
       "      <td>1</td>\n",
       "      <td>0</td>\n",
       "      <td>0</td>\n",
       "      <td>0</td>\n",
       "      <td>...</td>\n",
       "      <td>0</td>\n",
       "      <td>0</td>\n",
       "      <td>0</td>\n",
       "      <td>1</td>\n",
       "      <td>0</td>\n",
       "      <td>0</td>\n",
       "      <td>1</td>\n",
       "      <td>0</td>\n",
       "      <td>1</td>\n",
       "      <td>0</td>\n",
       "    </tr>\n",
       "  </tbody>\n",
       "</table>\n",
       "<p>5 rows × 22 columns</p>\n",
       "</div>"
      ],
      "text/plain": [
       "        age  trtbps      chol  thalachh  oldpeak  sex_1  exng_1  caa_1  caa_2  \\\n",
       "0  0.592593    0.75 -0.110236 -0.092308   0.9375      1       0      0      0   \n",
       "1 -1.333333    0.00  0.157480  1.046154   1.6875      1       0      0      0   \n",
       "2 -1.037037    0.00 -0.566929  0.584615   0.3750      0       0      0      0   \n",
       "3  0.074074   -0.50 -0.062992  0.769231   0.0000      1       0      0      0   \n",
       "4  0.148148   -0.50  1.795276  0.307692  -0.1250      0       1      0      0   \n",
       "\n",
       "   caa_3  ...  cp_2  cp_3  fbs_1  restecg_1  restecg_2  slp_1  slp_2  thall_1  \\\n",
       "0      0  ...     0     1      1          0          0      0      0        1   \n",
       "1      0  ...     1     0      0          1          0      0      0        0   \n",
       "2      0  ...     0     0      0          0          0      0      1        0   \n",
       "3      0  ...     0     0      0          1          0      0      1        0   \n",
       "4      0  ...     0     0      0          1          0      0      1        0   \n",
       "\n",
       "   thall_2  thall_3  \n",
       "0        0        0  \n",
       "1        1        0  \n",
       "2        1        0  \n",
       "3        1        0  \n",
       "4        1        0  \n",
       "\n",
       "[5 rows x 22 columns]"
      ]
     },
     "execution_count": 15,
     "metadata": {},
     "output_type": "execute_result"
    }
   ],
   "source": [
    "df1 = original_df\n",
    "\n",
    "# define the columns to be encoded and scaled\n",
    "cat_cols = ['sex','exng','caa','cp','fbs','restecg','slp','thall']\n",
    "con_cols = [\"age\",\"trtbps\",\"chol\",\"thalachh\",\"oldpeak\"]\n",
    "\n",
    "# encoding the categorical columns\n",
    "df1 = pd.get_dummies(df1, columns = cat_cols, drop_first = True)\n",
    "\n",
    "# defining the features and target\n",
    "original_X = df1.drop(['output'],axis=1)\n",
    "original_y = df1[['output']]\n",
    "\n",
    "# instantiating the scaler\n",
    "scaler = RobustScaler()\n",
    "\n",
    "# scaling the continuous featuree\n",
    "original_X[con_cols] = scaler.fit_transform(original_X[con_cols])\n",
    "print(\"The first 5 rows of original_X are\")\n",
    "original_X.head()"
   ]
  },
  {
   "cell_type": "code",
   "execution_count": 16,
   "metadata": {},
   "outputs": [
    {
     "name": "stdout",
     "output_type": "stream",
     "text": [
      "The first 5 rows of generated_X are\n"
     ]
    },
    {
     "data": {
      "text/html": [
       "<div>\n",
       "<style scoped>\n",
       "    .dataframe tbody tr th:only-of-type {\n",
       "        vertical-align: middle;\n",
       "    }\n",
       "\n",
       "    .dataframe tbody tr th {\n",
       "        vertical-align: top;\n",
       "    }\n",
       "\n",
       "    .dataframe thead th {\n",
       "        text-align: right;\n",
       "    }\n",
       "</style>\n",
       "<table border=\"1\" class=\"dataframe\">\n",
       "  <thead>\n",
       "    <tr style=\"text-align: right;\">\n",
       "      <th></th>\n",
       "      <th>age</th>\n",
       "      <th>trtbps</th>\n",
       "      <th>chol</th>\n",
       "      <th>thalachh</th>\n",
       "      <th>oldpeak</th>\n",
       "      <th>sex_1</th>\n",
       "      <th>exng_1</th>\n",
       "      <th>caa_1</th>\n",
       "      <th>caa_2</th>\n",
       "      <th>caa_3</th>\n",
       "      <th>...</th>\n",
       "      <th>cp_3</th>\n",
       "      <th>fbs_1</th>\n",
       "      <th>restecg_1</th>\n",
       "      <th>slp_1</th>\n",
       "      <th>slp_2</th>\n",
       "      <th>thall_2</th>\n",
       "      <th>thall_3</th>\n",
       "      <th>caa_4</th>\n",
       "      <th>restecg_2</th>\n",
       "      <th>thall_1</th>\n",
       "    </tr>\n",
       "  </thead>\n",
       "  <tbody>\n",
       "    <tr>\n",
       "      <th>0</th>\n",
       "      <td>0.287937</td>\n",
       "      <td>-0.587189</td>\n",
       "      <td>1.656247</td>\n",
       "      <td>0.544462</td>\n",
       "      <td>-0.597043</td>\n",
       "      <td>0</td>\n",
       "      <td>0</td>\n",
       "      <td>1</td>\n",
       "      <td>0</td>\n",
       "      <td>0</td>\n",
       "      <td>...</td>\n",
       "      <td>0</td>\n",
       "      <td>0</td>\n",
       "      <td>1</td>\n",
       "      <td>0</td>\n",
       "      <td>1</td>\n",
       "      <td>1</td>\n",
       "      <td>0</td>\n",
       "      <td>0</td>\n",
       "      <td>0</td>\n",
       "      <td>0</td>\n",
       "    </tr>\n",
       "    <tr>\n",
       "      <th>1</th>\n",
       "      <td>0.343572</td>\n",
       "      <td>0.179089</td>\n",
       "      <td>0.033281</td>\n",
       "      <td>-0.043885</td>\n",
       "      <td>0.272656</td>\n",
       "      <td>1</td>\n",
       "      <td>0</td>\n",
       "      <td>0</td>\n",
       "      <td>0</td>\n",
       "      <td>0</td>\n",
       "      <td>...</td>\n",
       "      <td>0</td>\n",
       "      <td>0</td>\n",
       "      <td>0</td>\n",
       "      <td>1</td>\n",
       "      <td>0</td>\n",
       "      <td>0</td>\n",
       "      <td>1</td>\n",
       "      <td>0</td>\n",
       "      <td>0</td>\n",
       "      <td>0</td>\n",
       "    </tr>\n",
       "    <tr>\n",
       "      <th>2</th>\n",
       "      <td>-0.326572</td>\n",
       "      <td>-0.444957</td>\n",
       "      <td>0.895151</td>\n",
       "      <td>-0.041498</td>\n",
       "      <td>-0.481687</td>\n",
       "      <td>0</td>\n",
       "      <td>0</td>\n",
       "      <td>1</td>\n",
       "      <td>0</td>\n",
       "      <td>0</td>\n",
       "      <td>...</td>\n",
       "      <td>0</td>\n",
       "      <td>0</td>\n",
       "      <td>0</td>\n",
       "      <td>0</td>\n",
       "      <td>1</td>\n",
       "      <td>1</td>\n",
       "      <td>0</td>\n",
       "      <td>0</td>\n",
       "      <td>0</td>\n",
       "      <td>0</td>\n",
       "    </tr>\n",
       "    <tr>\n",
       "      <th>3</th>\n",
       "      <td>-0.541375</td>\n",
       "      <td>-0.633759</td>\n",
       "      <td>-0.686716</td>\n",
       "      <td>-0.539361</td>\n",
       "      <td>-0.410384</td>\n",
       "      <td>1</td>\n",
       "      <td>1</td>\n",
       "      <td>0</td>\n",
       "      <td>0</td>\n",
       "      <td>0</td>\n",
       "      <td>...</td>\n",
       "      <td>0</td>\n",
       "      <td>0</td>\n",
       "      <td>1</td>\n",
       "      <td>0</td>\n",
       "      <td>1</td>\n",
       "      <td>0</td>\n",
       "      <td>1</td>\n",
       "      <td>0</td>\n",
       "      <td>0</td>\n",
       "      <td>0</td>\n",
       "    </tr>\n",
       "    <tr>\n",
       "      <th>4</th>\n",
       "      <td>-0.764176</td>\n",
       "      <td>-1.037749</td>\n",
       "      <td>-0.719220</td>\n",
       "      <td>0.195276</td>\n",
       "      <td>0.214105</td>\n",
       "      <td>0</td>\n",
       "      <td>0</td>\n",
       "      <td>0</td>\n",
       "      <td>0</td>\n",
       "      <td>0</td>\n",
       "      <td>...</td>\n",
       "      <td>0</td>\n",
       "      <td>0</td>\n",
       "      <td>1</td>\n",
       "      <td>1</td>\n",
       "      <td>0</td>\n",
       "      <td>1</td>\n",
       "      <td>0</td>\n",
       "      <td>0</td>\n",
       "      <td>0</td>\n",
       "      <td>0</td>\n",
       "    </tr>\n",
       "  </tbody>\n",
       "</table>\n",
       "<p>5 rows × 22 columns</p>\n",
       "</div>"
      ],
      "text/plain": [
       "        age    trtbps      chol  thalachh   oldpeak  sex_1  exng_1  caa_1  \\\n",
       "0  0.287937 -0.587189  1.656247  0.544462 -0.597043      0       0      1   \n",
       "1  0.343572  0.179089  0.033281 -0.043885  0.272656      1       0      0   \n",
       "2 -0.326572 -0.444957  0.895151 -0.041498 -0.481687      0       0      1   \n",
       "3 -0.541375 -0.633759 -0.686716 -0.539361 -0.410384      1       1      0   \n",
       "4 -0.764176 -1.037749 -0.719220  0.195276  0.214105      0       0      0   \n",
       "\n",
       "   caa_2  caa_3  ...  cp_3  fbs_1  restecg_1  slp_1  slp_2  thall_2  thall_3  \\\n",
       "0      0      0  ...     0      0          1      0      1        1        0   \n",
       "1      0      0  ...     0      0          0      1      0        0        1   \n",
       "2      0      0  ...     0      0          0      0      1        1        0   \n",
       "3      0      0  ...     0      0          1      0      1        0        1   \n",
       "4      0      0  ...     0      0          1      1      0        1        0   \n",
       "\n",
       "   caa_4  restecg_2  thall_1  \n",
       "0      0          0        0  \n",
       "1      0          0        0  \n",
       "2      0          0        0  \n",
       "3      0          0        0  \n",
       "4      0          0        0  \n",
       "\n",
       "[5 rows x 22 columns]"
      ]
     },
     "execution_count": 16,
     "metadata": {},
     "output_type": "execute_result"
    }
   ],
   "source": [
    "df2 = generated_df\n",
    "df2[cat_cols] = df2[cat_cols].astype(int)\n",
    "\n",
    "# encoding the categorical columns\n",
    "df2 = pd.get_dummies(df2, columns = cat_cols, drop_first = True)\n",
    "df1_not_df2 = df1.columns.difference(df2.columns)\n",
    "df2[df1_not_df2] = 0\n",
    "\n",
    "# defining the features and target\n",
    "generated_X = df2.drop(['output'],axis=1)\n",
    "generated_y = df2[['output']]\n",
    "\n",
    "# instantiating the scaler\n",
    "scaler = RobustScaler()\n",
    "\n",
    "# scaling the continuous featuree\n",
    "generated_X[con_cols] = scaler.fit_transform(generated_X[con_cols])\n",
    "print(\"The first 5 rows of generated_X are\")\n",
    "generated_X.head()"
   ]
  },
  {
   "cell_type": "markdown",
   "metadata": {},
   "source": [
    "##### Разделение на трейн и тест"
   ]
  },
  {
   "cell_type": "code",
   "execution_count": 17,
   "metadata": {
    "_kg_hide-input": true,
    "execution": {
     "iopub.execute_input": "2021-04-16T09:18:14.761872Z",
     "iopub.status.busy": "2021-04-16T09:18:14.759433Z",
     "iopub.status.idle": "2021-04-16T09:18:14.768166Z",
     "shell.execute_reply": "2021-04-16T09:18:14.767340Z"
    },
    "papermill": {
     "duration": 0.094276,
     "end_time": "2021-04-16T09:18:14.768360",
     "exception": false,
     "start_time": "2021-04-16T09:18:14.674084",
     "status": "completed"
    },
    "tags": []
   },
   "outputs": [
    {
     "name": "stdout",
     "output_type": "stream",
     "text": [
      "The shape of original_X_train is  (242, 22)\n",
      "The shape of original_X_test is  (61, 22)\n",
      "The shape of original_y_train is  (242, 1)\n",
      "The shape of original_y_test is  (61, 1)\n"
     ]
    }
   ],
   "source": [
    "original_X_train, original_X_test, original_y_train, original_y_test = \\\n",
    "train_test_split(original_X, original_y, test_size = 0.2, random_state = 42)\n",
    "print(\"The shape of original_X_train is \", original_X_train.shape)\n",
    "print(\"The shape of original_X_test is \", original_X_test.shape)\n",
    "print(\"The shape of original_y_train is \", original_y_train.shape)\n",
    "print(\"The shape of original_y_test is \", original_y_test.shape)"
   ]
  },
  {
   "cell_type": "code",
   "execution_count": 18,
   "metadata": {},
   "outputs": [
    {
     "name": "stdout",
     "output_type": "stream",
     "text": [
      "The shape of generated_X_train is  (242, 22)\n",
      "The shape of generated_X_test is  (61, 22)\n",
      "The shape of generated_y_train is  (242, 1)\n",
      "The shape of generated_y_test is  (61, 1)\n"
     ]
    }
   ],
   "source": [
    "generated_X_train, generated_X_test, generated_y_train, generated_y_test = \\\n",
    "train_test_split(generated_X, generated_y, test_size = 0.2, random_state = 42)\n",
    "print(\"The shape of generated_X_train is \", generated_X_train.shape)\n",
    "print(\"The shape of generated_X_test is \", generated_X_test.shape)\n",
    "print(\"The shape of generated_y_train is \", generated_y_train.shape)\n",
    "print(\"The shape of generated_y_test is \", generated_y_test.shape)"
   ]
  },
  {
   "cell_type": "markdown",
   "metadata": {},
   "source": [
    "##### Запись результатов"
   ]
  },
  {
   "cell_type": "code",
   "execution_count": 19,
   "metadata": {},
   "outputs": [],
   "source": [
    "results = []\n",
    "columns=['Модель', 'Качество на исходном датасете', 'Качество на сгенерированном датасете']"
   ]
  },
  {
   "cell_type": "markdown",
   "metadata": {
    "papermill": {
     "duration": 0.078372,
     "end_time": "2021-04-16T09:18:15.242800",
     "exception": false,
     "start_time": "2021-04-16T09:18:15.164428",
     "status": "completed"
    },
    "tags": []
   },
   "source": [
    "##### SVM"
   ]
  },
  {
   "cell_type": "code",
   "execution_count": 20,
   "metadata": {},
   "outputs": [
    {
     "name": "stdout",
     "output_type": "stream",
     "text": [
      "The test original accuracy score of SVM is  0.870967741935484\n"
     ]
    }
   ],
   "source": [
    "# instantiating the object and fitting\n",
    "original_clf = SVC(kernel='linear', C=1, random_state=42).fit(original_X_train, original_y_train)\n",
    "\n",
    "# predicting the values\n",
    "y_pred = original_clf.predict(original_X_test)\n",
    "\n",
    "original_accuracy = f1_score(original_y_test, y_pred)\n",
    "\n",
    "# printing the test accuracy\n",
    "print(\"The test original accuracy score of SVM is \", original_accuracy)"
   ]
  },
  {
   "cell_type": "code",
   "execution_count": 21,
   "metadata": {},
   "outputs": [
    {
     "name": "stdout",
     "output_type": "stream",
     "text": [
      "The test generated accuracy score of SVM is  0.7692307692307693\n"
     ]
    }
   ],
   "source": [
    "# instantiating the object and fitting\n",
    "generated_clf = SVC(kernel='linear', C=1, random_state=42).fit(generated_X_train, generated_y_train)\n",
    "\n",
    "# predicting the values\n",
    "y_pred = generated_clf.predict(original_X_test)\n",
    "\n",
    "generated_accuracy = f1_score(original_y_test, y_pred)\n",
    "\n",
    "# printing the test accuracy\n",
    "print(\"The test generated accuracy score of SVM is \", generated_accuracy)"
   ]
  },
  {
   "cell_type": "code",
   "execution_count": 22,
   "metadata": {},
   "outputs": [],
   "source": [
    "results.append(['SVM', original_accuracy, generated_accuracy])"
   ]
  },
  {
   "cell_type": "markdown",
   "metadata": {
    "papermill": {
     "duration": 0.078392,
     "end_time": "2021-04-16T09:18:20.563413",
     "exception": false,
     "start_time": "2021-04-16T09:18:20.485021",
     "status": "completed"
    },
    "tags": []
   },
   "source": [
    "##### Логистическая регрессия"
   ]
  },
  {
   "cell_type": "code",
   "execution_count": 23,
   "metadata": {
    "_kg_hide-input": true,
    "execution": {
     "iopub.execute_input": "2021-04-16T09:18:20.732925Z",
     "iopub.status.busy": "2021-04-16T09:18:20.730768Z",
     "iopub.status.idle": "2021-04-16T09:18:20.744946Z",
     "shell.execute_reply": "2021-04-16T09:18:20.744433Z"
    },
    "papermill": {
     "duration": 0.102758,
     "end_time": "2021-04-16T09:18:20.745089",
     "exception": false,
     "start_time": "2021-04-16T09:18:20.642331",
     "status": "completed"
    },
    "tags": []
   },
   "outputs": [
    {
     "name": "stdout",
     "output_type": "stream",
     "text": [
      "The test original accuracy score of Logistric Regression is  0.9032258064516129\n"
     ]
    }
   ],
   "source": [
    "# instantiating the object\n",
    "original_logreg = LogisticRegression()\n",
    "\n",
    "# fitting the object\n",
    "original_logreg.fit(original_X_train, original_y_train)\n",
    "\n",
    "# calculating the probabilities\n",
    "y_pred_proba = original_logreg.predict_proba(original_X_test)\n",
    "\n",
    "# finding the predicted valued\n",
    "y_pred = np.argmax(y_pred_proba,axis=1)\n",
    "\n",
    "original_accuracy = f1_score(original_y_test, y_pred)\n",
    "\n",
    "# printing the test accuracy\n",
    "print(\"The test original accuracy score of Logistric Regression is \", original_accuracy)"
   ]
  },
  {
   "cell_type": "code",
   "execution_count": 24,
   "metadata": {},
   "outputs": [
    {
     "name": "stdout",
     "output_type": "stream",
     "text": [
      "The test generated accuracy score of Logistric Regression is  0.7317073170731707\n"
     ]
    }
   ],
   "source": [
    "# instantiating the object\n",
    "generated_logreg = LogisticRegression()\n",
    "\n",
    "# fitting the object\n",
    "generated_logreg.fit(generated_X_train, generated_y_train)\n",
    "\n",
    "# calculating the probabilities\n",
    "y_pred_proba = generated_logreg.predict_proba(original_X_test)\n",
    "\n",
    "# finding the predicted valued\n",
    "y_pred = np.argmax(y_pred_proba,axis=1)\n",
    "\n",
    "generated_accuracy = f1_score(original_y_test, y_pred)\n",
    "\n",
    "# printing the test accuracy\n",
    "print(\"The test generated accuracy score of Logistric Regression is \", generated_accuracy)"
   ]
  },
  {
   "cell_type": "code",
   "execution_count": 25,
   "metadata": {},
   "outputs": [],
   "source": [
    "results.append(['Логистическая регрессия', original_accuracy, generated_accuracy])"
   ]
  },
  {
   "cell_type": "markdown",
   "metadata": {
    "papermill": {
     "duration": 0.080449,
     "end_time": "2021-04-16T09:18:21.503623",
     "exception": false,
     "start_time": "2021-04-16T09:18:21.423174",
     "status": "completed"
    },
    "tags": []
   },
   "source": [
    "##### Decision Tree"
   ]
  },
  {
   "cell_type": "code",
   "execution_count": 26,
   "metadata": {
    "_kg_hide-input": true,
    "execution": {
     "iopub.execute_input": "2021-04-16T09:18:21.668249Z",
     "iopub.status.busy": "2021-04-16T09:18:21.667653Z",
     "iopub.status.idle": "2021-04-16T09:18:21.681433Z",
     "shell.execute_reply": "2021-04-16T09:18:21.681888Z"
    },
    "papermill": {
     "duration": 0.097575,
     "end_time": "2021-04-16T09:18:21.682065",
     "exception": false,
     "start_time": "2021-04-16T09:18:21.584490",
     "status": "completed"
    },
    "tags": []
   },
   "outputs": [
    {
     "name": "stdout",
     "output_type": "stream",
     "text": [
      "The test original accuracy score of Decision Tree is  0.7796610169491525\n"
     ]
    }
   ],
   "source": [
    "# instantiating the object\n",
    "original_dt = DecisionTreeClassifier(random_state = 42)\n",
    "\n",
    "# fitting the model\n",
    "original_dt.fit(original_X_train, original_y_train)\n",
    "\n",
    "# calculating the predictions\n",
    "y_pred = original_dt.predict(original_X_test)\n",
    "\n",
    "original_accuracy = f1_score(original_y_test, y_pred)\n",
    "\n",
    "# printing the test accuracy\n",
    "print(\"The test original accuracy score of Decision Tree is \", original_accuracy)"
   ]
  },
  {
   "cell_type": "code",
   "execution_count": 27,
   "metadata": {},
   "outputs": [
    {
     "name": "stdout",
     "output_type": "stream",
     "text": [
      "The test generated accuracy score of Decision Tree is  0.6329113924050632\n"
     ]
    }
   ],
   "source": [
    "# instantiating the object\n",
    "generated_dt = DecisionTreeClassifier(random_state = 42)\n",
    "\n",
    "# fitting the model\n",
    "generated_dt.fit(generated_X_train, generated_y_train)\n",
    "\n",
    "# calculating the predictions\n",
    "y_pred = generated_dt.predict(original_X_test)\n",
    "\n",
    "generated_accuracy = f1_score(original_y_test, y_pred)\n",
    "\n",
    "# printing the test accuracy\n",
    "print(\"The test generated accuracy score of Decision Tree is \", generated_accuracy)"
   ]
  },
  {
   "cell_type": "code",
   "execution_count": 28,
   "metadata": {},
   "outputs": [],
   "source": [
    "results.append(['Decision Tree', original_accuracy, generated_accuracy])"
   ]
  },
  {
   "cell_type": "markdown",
   "metadata": {
    "papermill": {
     "duration": 0.081446,
     "end_time": "2021-04-16T09:18:21.845558",
     "exception": false,
     "start_time": "2021-04-16T09:18:21.764112",
     "status": "completed"
    },
    "tags": []
   },
   "source": [
    "##### Random Forest"
   ]
  },
  {
   "cell_type": "code",
   "execution_count": 29,
   "metadata": {
    "_kg_hide-input": true,
    "execution": {
     "iopub.execute_input": "2021-04-16T09:18:22.013343Z",
     "iopub.status.busy": "2021-04-16T09:18:22.012419Z",
     "iopub.status.idle": "2021-04-16T09:18:22.170777Z",
     "shell.execute_reply": "2021-04-16T09:18:22.169980Z"
    },
    "papermill": {
     "duration": 0.244134,
     "end_time": "2021-04-16T09:18:22.170980",
     "exception": false,
     "start_time": "2021-04-16T09:18:21.926846",
     "status": "completed"
    },
    "tags": []
   },
   "outputs": [
    {
     "name": "stdout",
     "output_type": "stream",
     "text": [
      "The test original accuracy score of Random Forest is  0.8333333333333334\n"
     ]
    }
   ],
   "source": [
    "# instantiating the object\n",
    "original_rf = RandomForestClassifier()\n",
    "\n",
    "# fitting the model\n",
    "original_rf.fit(original_X_train, original_y_train)\n",
    "\n",
    "# calculating the predictions\n",
    "y_pred = original_rf.predict(original_X_test)\n",
    "\n",
    "original_accuracy = f1_score(original_y_test, y_pred)\n",
    "\n",
    "# printing the test accuracy\n",
    "print(\"The test original accuracy score of Random Forest is \", original_accuracy)"
   ]
  },
  {
   "cell_type": "code",
   "execution_count": 30,
   "metadata": {},
   "outputs": [
    {
     "name": "stdout",
     "output_type": "stream",
     "text": [
      "The test generated accuracy score of Random Forest is  0.6813186813186813\n"
     ]
    }
   ],
   "source": [
    "# instantiating the object\n",
    "generated_rf = RandomForestClassifier()\n",
    "\n",
    "# fitting the model\n",
    "generated_rf.fit(generated_X_train, generated_y_train)\n",
    "\n",
    "# calculating the predictions\n",
    "y_pred = generated_rf.predict(original_X_test)\n",
    "\n",
    "generated_accuracy = f1_score(original_y_test, y_pred)\n",
    "\n",
    "# printing the test accuracy\n",
    "print(\"The test generated accuracy score of Random Forest is \", generated_accuracy)"
   ]
  },
  {
   "cell_type": "code",
   "execution_count": 31,
   "metadata": {},
   "outputs": [],
   "source": [
    "results.append(['Random Forest', original_accuracy, generated_accuracy])"
   ]
  },
  {
   "cell_type": "markdown",
   "metadata": {
    "papermill": {
     "duration": 0.085382,
     "end_time": "2021-04-16T09:18:22.339912",
     "exception": false,
     "start_time": "2021-04-16T09:18:22.254530",
     "status": "completed"
    },
    "tags": []
   },
   "source": [
    "##### Gradient Boosting Classifier "
   ]
  },
  {
   "cell_type": "code",
   "execution_count": 32,
   "metadata": {
    "_kg_hide-input": true,
    "execution": {
     "iopub.execute_input": "2021-04-16T09:18:22.508642Z",
     "iopub.status.busy": "2021-04-16T09:18:22.508028Z",
     "iopub.status.idle": "2021-04-16T09:18:22.661528Z",
     "shell.execute_reply": "2021-04-16T09:18:22.661982Z"
    },
    "papermill": {
     "duration": 0.239174,
     "end_time": "2021-04-16T09:18:22.662141",
     "exception": false,
     "start_time": "2021-04-16T09:18:22.422967",
     "status": "completed"
    },
    "tags": []
   },
   "outputs": [
    {
     "name": "stdout",
     "output_type": "stream",
     "text": [
      "The test original accuracy score of Gradient Boosting Classifier is  0.870967741935484\n"
     ]
    }
   ],
   "source": [
    "# instantiate the classifier\n",
    "original_gbt = GradientBoostingClassifier(n_estimators = 300,\n",
    "                                          max_depth=1,\n",
    "                                          subsample=0.8,\n",
    "                                          max_features=0.2,\n",
    "                                          random_state=42)\n",
    "\n",
    "# fitting the model\n",
    "original_gbt.fit(original_X_train, original_y_train)\n",
    "\n",
    "# predicting values\n",
    "y_pred = original_gbt.predict(original_X_test)\n",
    "\n",
    "original_accuracy = f1_score(original_y_test, y_pred)\n",
    "\n",
    "print(\"The test original accuracy score of Gradient Boosting Classifier is \", original_accuracy)"
   ]
  },
  {
   "cell_type": "code",
   "execution_count": 33,
   "metadata": {},
   "outputs": [
    {
     "name": "stdout",
     "output_type": "stream",
     "text": [
      "The test generated accuracy score of Gradient Boosting Classifier is  0.7532467532467533\n"
     ]
    }
   ],
   "source": [
    "# instantiate the classifier\n",
    "generated_gbt = GradientBoostingClassifier(n_estimators = 300,\n",
    "                                           max_depth=1,\n",
    "                                           subsample=0.8,\n",
    "                                           max_features=0.2,\n",
    "                                           random_state=42)\n",
    "\n",
    "# fitting the model\n",
    "generated_gbt.fit(generated_X_train, generated_y_train)\n",
    "\n",
    "# predicting values\n",
    "y_pred = generated_gbt.predict(original_X_test)\n",
    "\n",
    "generated_accuracy = f1_score(original_y_test, y_pred)\n",
    "\n",
    "print(\"The test generated accuracy score of Gradient Boosting Classifier is \", generated_accuracy)"
   ]
  },
  {
   "cell_type": "code",
   "execution_count": 34,
   "metadata": {},
   "outputs": [],
   "source": [
    "results.append(['Gradient Boosting Classifier', original_accuracy, generated_accuracy])"
   ]
  },
  {
   "cell_type": "markdown",
   "metadata": {},
   "source": [
    "#### Baseline models"
   ]
  },
  {
   "cell_type": "code",
   "execution_count": 35,
   "metadata": {},
   "outputs": [
    {
     "name": "stdout",
     "output_type": "stream",
     "text": [
      "The test original accuracy score of Uniform Dummy Classifier is  0.5079365079365079\n"
     ]
    }
   ],
   "source": [
    "# instantiate the classifier\n",
    "original_dummy_clf = DummyClassifier(strategy=\"uniform\", random_state=42)\n",
    "\n",
    "# fitting the model\n",
    "original_dummy_clf.fit(original_X_train, original_y_train)\n",
    "\n",
    "# predicting values\n",
    "y_pred = original_dummy_clf.predict(original_X_test)\n",
    "\n",
    "original_accuracy = f1_score(original_y_test, y_pred)\n",
    "\n",
    "print(\"The test original accuracy score of Uniform Dummy Classifier is \", original_accuracy)"
   ]
  },
  {
   "cell_type": "code",
   "execution_count": 36,
   "metadata": {},
   "outputs": [
    {
     "name": "stdout",
     "output_type": "stream",
     "text": [
      "The test generated accuracy score of Uniform Dummy Classifier is  0.5079365079365079\n"
     ]
    }
   ],
   "source": [
    "# instantiate the classifier\n",
    "generated_dummy_clf = DummyClassifier(strategy=\"uniform\", random_state=42)\n",
    "\n",
    "# fitting the model\n",
    "generated_dummy_clf.fit(generated_X_train, generated_y_train)\n",
    "\n",
    "# predicting values\n",
    "y_pred = generated_dummy_clf.predict(original_X_test)\n",
    "\n",
    "generated_accuracy = f1_score(original_y_test, y_pred)\n",
    "\n",
    "print(\"The test generated accuracy score of Uniform Dummy Classifier is \", generated_accuracy)"
   ]
  },
  {
   "cell_type": "code",
   "execution_count": 37,
   "metadata": {},
   "outputs": [],
   "source": [
    "results.append(['Uniform Dummy Classifier', original_accuracy, generated_accuracy])"
   ]
  },
  {
   "cell_type": "code",
   "execution_count": 50,
   "metadata": {},
   "outputs": [
    {
     "name": "stdout",
     "output_type": "stream",
     "text": [
      "The test original accuracy score of Most Frequent Dummy Classifier is  0.6881720430107526\n"
     ]
    }
   ],
   "source": [
    "# instantiate the classifier\n",
    "original_dummy_clf = DummyClassifier(strategy=\"most_frequent\")\n",
    "\n",
    "# fitting the model\n",
    "original_dummy_clf.fit(original_X_train, original_y_train)\n",
    "\n",
    "# predicting values\n",
    "y_pred = original_dummy_clf.predict(original_X_test)\n",
    "\n",
    "original_accuracy = f1_score(original_y_test, y_pred)\n",
    "\n",
    "print(\"The test original accuracy score of Most Frequent Dummy Classifier is \", original_accuracy)"
   ]
  },
  {
   "cell_type": "code",
   "execution_count": 51,
   "metadata": {},
   "outputs": [
    {
     "name": "stdout",
     "output_type": "stream",
     "text": [
      "The test generated accuracy score of Most Frequent Dummy Classifier is  0.6881720430107526\n"
     ]
    }
   ],
   "source": [
    "# instantiate the classifier\n",
    "generated_dummy_clf = DummyClassifier(strategy=\"most_frequent\")\n",
    "\n",
    "# fitting the model\n",
    "generated_dummy_clf.fit(generated_X_train, generated_y_train)\n",
    "\n",
    "# predicting values\n",
    "y_pred = generated_dummy_clf.predict(original_X_test)\n",
    "\n",
    "generated_accuracy = f1_score(original_y_test, y_pred)\n",
    "\n",
    "print(\"The test generated accuracy score of Most Frequent Dummy Classifier is \", generated_accuracy)"
   ]
  },
  {
   "cell_type": "code",
   "execution_count": 52,
   "metadata": {},
   "outputs": [],
   "source": [
    "results.append(['Most Frequent Dummy Classifier', original_accuracy, generated_accuracy])"
   ]
  },
  {
   "cell_type": "markdown",
   "metadata": {},
   "source": [
    "##### Результаты"
   ]
  },
  {
   "cell_type": "code",
   "execution_count": 41,
   "metadata": {},
   "outputs": [],
   "source": [
    "table = pd.DataFrame(data=results, columns=columns)"
   ]
  },
  {
   "cell_type": "code",
   "execution_count": 42,
   "metadata": {},
   "outputs": [
    {
     "data": {
      "text/html": [
       "<div>\n",
       "<style scoped>\n",
       "    .dataframe tbody tr th:only-of-type {\n",
       "        vertical-align: middle;\n",
       "    }\n",
       "\n",
       "    .dataframe tbody tr th {\n",
       "        vertical-align: top;\n",
       "    }\n",
       "\n",
       "    .dataframe thead th {\n",
       "        text-align: right;\n",
       "    }\n",
       "</style>\n",
       "<table border=\"1\" class=\"dataframe\">\n",
       "  <thead>\n",
       "    <tr style=\"text-align: right;\">\n",
       "      <th></th>\n",
       "      <th>Модель</th>\n",
       "      <th>Качество на исходном датасете</th>\n",
       "      <th>Качество на сгенерированном датасете</th>\n",
       "    </tr>\n",
       "  </thead>\n",
       "  <tbody>\n",
       "    <tr>\n",
       "      <th>0</th>\n",
       "      <td>SVM</td>\n",
       "      <td>0.870968</td>\n",
       "      <td>0.769231</td>\n",
       "    </tr>\n",
       "    <tr>\n",
       "      <th>1</th>\n",
       "      <td>Логистическая регрессия</td>\n",
       "      <td>0.903226</td>\n",
       "      <td>0.731707</td>\n",
       "    </tr>\n",
       "    <tr>\n",
       "      <th>2</th>\n",
       "      <td>Decision Tree</td>\n",
       "      <td>0.779661</td>\n",
       "      <td>0.632911</td>\n",
       "    </tr>\n",
       "    <tr>\n",
       "      <th>3</th>\n",
       "      <td>Random Forest</td>\n",
       "      <td>0.833333</td>\n",
       "      <td>0.681319</td>\n",
       "    </tr>\n",
       "    <tr>\n",
       "      <th>4</th>\n",
       "      <td>Gradient Boosting Classifier</td>\n",
       "      <td>0.870968</td>\n",
       "      <td>0.753247</td>\n",
       "    </tr>\n",
       "    <tr>\n",
       "      <th>5</th>\n",
       "      <td>Uniform Dummy Classifier</td>\n",
       "      <td>0.507937</td>\n",
       "      <td>0.507937</td>\n",
       "    </tr>\n",
       "    <tr>\n",
       "      <th>6</th>\n",
       "      <td>Most Frequent Dummy Classifier</td>\n",
       "      <td>0.688172</td>\n",
       "      <td>0.688172</td>\n",
       "    </tr>\n",
       "  </tbody>\n",
       "</table>\n",
       "</div>"
      ],
      "text/plain": [
       "                           Модель  Качество на исходном датасете  \\\n",
       "0                             SVM                       0.870968   \n",
       "1         Логистическая регрессия                       0.903226   \n",
       "2                   Decision Tree                       0.779661   \n",
       "3                   Random Forest                       0.833333   \n",
       "4    Gradient Boosting Classifier                       0.870968   \n",
       "5        Uniform Dummy Classifier                       0.507937   \n",
       "6  Most Frequent Dummy Classifier                       0.688172   \n",
       "\n",
       "   Качество на сгенерированном датасете  \n",
       "0                              0.769231  \n",
       "1                              0.731707  \n",
       "2                              0.632911  \n",
       "3                              0.681319  \n",
       "4                              0.753247  \n",
       "5                              0.507937  \n",
       "6                              0.688172  "
      ]
     },
     "execution_count": 42,
     "metadata": {},
     "output_type": "execute_result"
    }
   ],
   "source": [
    "table"
   ]
  }
 ],
 "metadata": {
  "kernelspec": {
   "display_name": "Python 3",
   "language": "python",
   "name": "python3"
  },
  "language_info": {
   "codemirror_mode": {
    "name": "ipython",
    "version": 3
   },
   "file_extension": ".py",
   "mimetype": "text/x-python",
   "name": "python",
   "nbconvert_exporter": "python",
   "pygments_lexer": "ipython3",
   "version": "3.8.5"
  },
  "papermill": {
   "default_parameters": {},
   "duration": 69.431207,
   "end_time": "2021-04-16T09:18:23.720419",
   "environment_variables": {},
   "exception": null,
   "input_path": "__notebook__.ipynb",
   "output_path": "__notebook__.ipynb",
   "parameters": {},
   "start_time": "2021-04-16T09:17:14.289212",
   "version": "2.3.2"
  }
 },
 "nbformat": 4,
 "nbformat_minor": 5
}
